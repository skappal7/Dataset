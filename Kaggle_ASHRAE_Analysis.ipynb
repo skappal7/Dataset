{
  "nbformat": 4,
  "nbformat_minor": 0,
  "metadata": {
    "colab": {
      "name": "Kaggle ASHRAE - Analysis",
      "provenance": [],
      "include_colab_link": true
    },
    "kernelspec": {
      "name": "python3",
      "display_name": "Python 3"
    },
    "accelerator": "GPU"
  },
  "cells": [
    {
      "cell_type": "markdown",
      "metadata": {
        "id": "view-in-github",
        "colab_type": "text"
      },
      "source": [
        "<a href=\"https://colab.research.google.com/github/skappal7/Dataset/blob/master/Kaggle_ASHRAE_Analysis.ipynb\" target=\"_parent\"><img src=\"https://colab.research.google.com/assets/colab-badge.svg\" alt=\"Open In Colab\"/></a>"
      ]
    },
    {
      "cell_type": "code",
      "metadata": {
        "id": "r9P9SfanctEz",
        "colab_type": "code",
        "colab": {}
      },
      "source": [
        "!pip install kaggle"
      ],
      "execution_count": 0,
      "outputs": []
    },
    {
      "cell_type": "code",
      "metadata": {
        "id": "pqkJEdeyc6YG",
        "colab_type": "code",
        "colab": {}
      },
      "source": [
        "!mkdir .kaggle"
      ],
      "execution_count": 0,
      "outputs": []
    },
    {
      "cell_type": "code",
      "metadata": {
        "id": "D2hfzinYc86s",
        "colab_type": "code",
        "colab": {}
      },
      "source": [
        "import json\n",
        "token = {\"username\":\"skappal7\",\"key\":\"aa980f3f9c89a7f55002df9a8fdf4805\"}\n",
        "with open ('/content/.kaggle/kaggle.json','w') as file:\n",
        "  json.dump(token,file)"
      ],
      "execution_count": 0,
      "outputs": []
    },
    {
      "cell_type": "code",
      "metadata": {
        "id": "EUXm_PScd-GS",
        "colab_type": "code",
        "colab": {}
      },
      "source": [
        "!cp /content/.kaggle/kaggle.json ~/.kaggle/kaggle.json"
      ],
      "execution_count": 0,
      "outputs": []
    },
    {
      "cell_type": "code",
      "metadata": {
        "id": "laM4mzgVeAih",
        "colab_type": "code",
        "colab": {
          "base_uri": "https://localhost:8080/",
          "height": 51
        },
        "outputId": "2dc4c2e5-0055-4f38-d064-b8e9307d1370"
      },
      "source": [
        "!kaggle config set -n path -v{/content}"
      ],
      "execution_count": 10,
      "outputs": [
        {
          "output_type": "stream",
          "text": [
            "Warning: Your Kaggle API key is readable by other users on this system! To fix this, you can run 'chmod 600 /root/.kaggle/kaggle.json'\n",
            "- path is now set to: {/content}\n"
          ],
          "name": "stdout"
        }
      ]
    },
    {
      "cell_type": "code",
      "metadata": {
        "id": "dR8n5LZMeHOZ",
        "colab_type": "code",
        "colab": {}
      },
      "source": [
        "!chmod 600 /root/.kaggle/kaggle.json"
      ],
      "execution_count": 0,
      "outputs": []
    },
    {
      "cell_type": "code",
      "metadata": {
        "id": "VdBwR_8meMvJ",
        "colab_type": "code",
        "colab": {
          "base_uri": "https://localhost:8080/",
          "height": 408
        },
        "outputId": "89c21543-ca29-4b7b-ccad-dc10eddd61ca"
      },
      "source": [
        "!kaggle datasets list"
      ],
      "execution_count": 12,
      "outputs": [
        {
          "output_type": "stream",
          "text": [
            "Warning: Looks like you're using an outdated API Version, please consider updating (server 1.5.6 / client 1.5.4)\n",
            "ref                                                       title                                               size  lastUpdated          downloadCount  \n",
            "--------------------------------------------------------  -------------------------------------------------  -----  -------------------  -------------  \n",
            "tristan581/17k-apple-app-store-strategy-games             17K Mobile Strategy Games                            8MB  2019-08-26 08:22:16           3223  \n",
            "dgomonov/new-york-city-airbnb-open-data                   New York City Airbnb Open Data                       2MB  2019-08-12 16:24:45          33634  \n",
            "gustavomodelli/forest-fires-in-brazil                     Forest Fires in Brazil                              31KB  2019-08-24 16:09:16           4412  \n",
            "shuyangli94/food-com-recipes-and-user-interactions        Food.com Recipes and Interactions                  261MB  2019-10-12 06:30:37           1405  \n",
            "rajeevw/ufcdata                                           UFC-Fight historical data from 1993 to 2019          2MB  2019-07-05 09:58:02           2808  \n",
            "chirin/africa-economic-banking-and-systemic-crisis-data   Africa Economic, Banking and Systemic Crisis Data   14KB  2019-07-21 02:00:17           1541  \n",
            "bradklassen/pga-tour-20102018-data                        PGA Tour Golf Data                                 102MB  2019-10-15 03:14:40           8155  \n",
            "lakshyaag/india-trade-data                                India - Trade Data                                   1MB  2019-08-16 16:13:58          13680  \n",
            "akhilv11/border-crossing-entry-data                       Border Crossing Entry Data                           3MB  2019-08-21 14:51:34           1487  \n",
            "ruslankl/european-union-lgbt-survey-2012                  EU LGBT Survey                                     577KB  2019-07-19 11:15:25            788  \n",
            "ma7555/schengen-visa-stats                                Schengen Visa Stats 2017/2018                        1MB  2019-07-25 10:55:37           2445  \n",
            "dareenalharthi/jamalon-arabic-books-dataset               Jamalon Arabic Books Dataset                         1MB  2019-08-15 18:58:06            805  \n",
            "codersree/mount-rainier-weather-and-climbing-data         Mount Rainier Weather and Climbing Data             25KB  2019-08-27 23:33:36           3036  \n",
            "kapilverma/hindi-bible                                    Hindi Bible                                          4MB  2019-09-07 18:04:35            127  \n",
            "samhiatt/xenocanto-avian-vocalizations-canv-usa           Avian Vocalizations from CA & NV, USA                1GB  2019-08-10 00:16:10            614  \n",
            "therohk/ireland-historical-news                           The Irish Times - Waxy-Wany News                    47MB  2019-08-24 15:36:54           2467  \n",
            "lishuyangkaggle/cocktails-hotaling-co                     Cocktails (Hotaling & Co.)                          75KB  2019-07-08 23:49:34           2329  \n",
            "martj42/international-football-results-from-1872-to-2017  International football results from 1872 to 2019   525KB  2019-10-02 16:51:16          25087  \n",
            "hmavrodiev/sofia-air-quality-dataset                      Sofia air quality dataset                            3GB  2019-09-14 05:48:09            496  \n",
            "valentynsichkar/traffic-signs-preprocessed                Traffic Signs Preprocessed                            0B  2019-08-31 18:22:11            443  \n"
          ],
          "name": "stdout"
        }
      ]
    }
  ]
}